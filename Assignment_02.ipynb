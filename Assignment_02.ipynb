{
 "cells": [
  {
   "cell_type": "markdown",
   "metadata": {},
   "source": [
    "## Assignments\n",
    "\n",
    "### 1. train test split from scratch\n",
    "\n",
    "Create a function my_train_test_split() that takes ipnput X, y and fraction of train. And ouputs the list or tuple containing splits"
   ]
  },
  {
   "cell_type": "code",
   "execution_count": 30,
   "metadata": {},
   "outputs": [],
   "source": [
    "import numpy as np\n",
    "import pandas as pd\n",
    "import sklearn as sk\n",
    "from sklearn import metrics"
   ]
  },
  {
   "cell_type": "code",
   "execution_count": 31,
   "metadata": {},
   "outputs": [
    {
     "name": "stdout",
     "output_type": "stream",
     "text": [
      "data:\n",
      "[[ 1  2  0]\n",
      " [ 3  4  1]\n",
      " [ 5  6  1]\n",
      " [ 7  8  0]\n",
      " [ 9 10  1]\n",
      " [11 12  0]]\n",
      "\n",
      "X_train:\n",
      "[[1 2]\n",
      " [3 4]\n",
      " [5 6]\n",
      " [7 8]]\n",
      "\n",
      "y_train:\n",
      "[0 1 1 0]\n",
      "\n",
      "y_train:\n",
      "[[ 9 10]\n",
      " [11 12]]\n",
      "\n",
      "y_test:\n",
      "[1 0]\n"
     ]
    }
   ],
   "source": [
    "#Clue 1: Splitting the data sequentially for a given fraction\n",
    "\n",
    "data = np.array([[1, 2, 0], [3, 4, 1], [5, 6, 1], [7, 8, 0], [9, 10, 1], [11, 12, 0]])\n",
    "print('data:')\n",
    "print(data)\n",
    "\n",
    "# Train part of the data\n",
    "split = int(0.8*data.shape[0])\n",
    "X_train = data[:split, :-1]\n",
    "y_train = data[:split, -1]\n",
    "\n",
    "print('\\nX_train:')\n",
    "print(X_train)\n",
    "print('\\ny_train:')\n",
    "print(y_train)\n",
    "\n",
    "# The test part of the data\n",
    "X_test = data[split:, :-1]\n",
    "y_test = data[split:, -1]\n",
    "\n",
    "print('\\ny_train:')\n",
    "print(X_test)\n",
    "\n",
    "print('\\ny_test:')\n",
    "print(y_test)"
   ]
  },
  {
   "cell_type": "code",
   "execution_count": 32,
   "metadata": {},
   "outputs": [
    {
     "name": "stdout",
     "output_type": "stream",
     "text": [
      "[2 3 0 1]\n",
      "<class 'numpy.ndarray'>\n",
      "3\n"
     ]
    },
    {
     "data": {
      "text/plain": [
       "array([2, 3, 0])"
      ]
     },
     "execution_count": 32,
     "metadata": {},
     "output_type": "execute_result"
    }
   ],
   "source": [
    "#Clue2: splitting data randomly\n",
    "data = np.array([[1, 2, 0], [3, 4, 1], [5, 6, 1], [7, 8, 0]])\n",
    "num_samples = data.shape[0]\n",
    "ind = np.random.choice(num_samples, num_samples, replace = False)\n",
    "print(ind)\n",
    "print(type(ind))\n",
    "split = int(0.8*num_samples)\n",
    "print(split)\n",
    "ind[:split]"
   ]
  },
  {
   "cell_type": "code",
   "execution_count": 33,
   "metadata": {},
   "outputs": [],
   "source": [
    "## TODO: Your function definition goes here\n",
    "def new_train_test_split(X, y, test_size=0.2, random_state=None):\n",
    "    if random_state is not None:\n",
    "        np.random.seed(random_state)\n",
    "\n",
    "    num_samples = X.shape[0]\n",
    "    num_test = int(test_size * num_samples)\n",
    "    \n",
    "    indices = np.random.choice(num_samples, num_samples, replace=False)\n",
    "    test_indices = indices[:num_test]\n",
    "    train_indices = indices[num_test:]\n",
    "\n",
    "    X_train, X_test = X[train_indices], X[test_indices]\n",
    "    y_train, y_test = y[train_indices], y[test_indices]\n",
    "\n",
    "    return X_train, X_test, y_train, y_test"
   ]
  },
  {
   "cell_type": "code",
   "execution_count": 34,
   "metadata": {},
   "outputs": [
    {
     "name": "stdout",
     "output_type": "stream",
     "text": [
      "X_train: [[4 5]\n",
      " [8 9]\n",
      " [5 6]\n",
      " [1 2]\n",
      " [0 1]\n",
      " [6 7]\n",
      " [2 3]]\n",
      "<class 'numpy.ndarray'>\n",
      "X_test: [[3 4]]\n",
      "y_train: [1 1 0 0 0 1 1]\n",
      "y_test: [0]\n"
     ]
    }
   ],
   "source": [
    "## TODO: Your function invocation goes here\n",
    "X = np.array([\n",
    "    [1, 2],\n",
    "    [2, 3],\n",
    "    [3, 4],\n",
    "    [4, 5],\n",
    "    [0, 1],\n",
    "    [6, 7],\n",
    "    [8, 9],\n",
    "    [5, 6],\n",
    "])\n",
    "y = np.array([0, 1, 0, 1, 0, 1, 1, 0])\n",
    "\n",
    "X_train, X_test, y_train, y_test = new_train_test_split(X, y, test_size=0.2,random_state=10)\n",
    "print(\"X_train:\", X_train)\n",
    "print(type(X_train))\n",
    "print(\"X_test:\", X_test)\n",
    "print(\"y_train:\", y_train)\n",
    "print(\"y_test:\", y_test)"
   ]
  },
  {
   "cell_type": "markdown",
   "metadata": {},
   "source": [
    "<a id='knn-scratch'></a>\n",
    "<hr/>"
   ]
  },
  {
   "cell_type": "markdown",
   "metadata": {},
   "source": [
    "### 2. kNN from scratch"
   ]
  },
  {
   "cell_type": "code",
   "execution_count": 35,
   "metadata": {},
   "outputs": [],
   "source": [
    "# KNN class that allows setting the number of neighbours and weight=uniform or distance\n",
    "class KNN:\n",
    "    def __init__(self, k=5, weights='uniform'): #Fill this out\n",
    "        self.n_neighbors = k\n",
    "        self.weights = weights\n",
    "\n",
    "    def fit(self,X, y): # What is missing in function definition?\n",
    "        self.X_train = X\n",
    "        self.y_train = y\n",
    "\n",
    "    def predict(self,X): # What is missing in function definition?\n",
    "        y_pred = []\n",
    "        for x in X:\n",
    "            distance = np.linalg.norm(self.X_train - x, axis=1)\n",
    "\n",
    "            k_indices = np.argsort(distance)[:self.n_neighbors]\n",
    "\n",
    "            if self.weights == 'uniform':\n",
    "                neighbor_labels = self.y_train[k_indices]\n",
    "                unique_labels, label_counts = np.unique(neighbor_labels, return_counts=True)\n",
    "                most_common_label = unique_labels[np.argmax(label_counts)]\n",
    "                y_pred.append(most_common_label)\n",
    "            elif self.weights == 'distance':\n",
    "                neighbor_labels = self.y_train[k_indices]\n",
    "                weights = 1 / (distance[k_indices] + 1e-6)\n",
    "                weighted_labels = dict(zip(neighbor_labels, weights))\n",
    "                weighted_sum = {label: sum(weighted_labels[l] for l, w in zip(neighbor_labels, weights) if l == label) for label in set(neighbor_labels)}\n",
    "                most_common_label = max(weighted_sum, key=weighted_sum.get)\n",
    "                y_pred.append(most_common_label)\n",
    "            else:\n",
    "                raise ValueError(\"Invalid\")\n",
    "\n",
    "        return np.array(y_pred)"
   ]
  },
  {
   "cell_type": "code",
   "execution_count": 36,
   "metadata": {},
   "outputs": [],
   "source": [
    "knn = KNN()\n",
    "knn.fit(X_train, y_train)"
   ]
  },
  {
   "cell_type": "code",
   "execution_count": 37,
   "metadata": {},
   "outputs": [
    {
     "name": "stdout",
     "output_type": "stream",
     "text": [
      "Accuracy = 1.0\n"
     ]
    }
   ],
   "source": [
    "y_pred = knn.predict(X_test)\n",
    "accuracy = metrics.accuracy_score(y_test, y_pred)\n",
    "print(f\"Accuracy = {accuracy}\")"
   ]
  },
  {
   "cell_type": "markdown",
   "metadata": {},
   "source": [
    "<a id='gridsearch-scratch'></a>\n",
    "<hr/>"
   ]
  },
  {
   "cell_type": "markdown",
   "metadata": {},
   "source": [
    "### 3. GridSearch from scratch"
   ]
  },
  {
   "cell_type": "code",
   "execution_count": 38,
   "metadata": {},
   "outputs": [],
   "source": [
    "# Clue: Look at itertools.product() functionality in python.\n",
    "# It will allow you to create Cartesian products needed for multiple hyperparam tuning\n",
    "# Use it in a loop to write your custom Grid Search"
   ]
  },
  {
   "cell_type": "code",
   "execution_count": 40,
   "metadata": {},
   "outputs": [
    {
     "name": "stdout",
     "output_type": "stream",
     "text": [
      "Best Hyperparameters: (5, 'uniform')\n",
      "Best Performance: 1.0\n"
     ]
    }
   ],
   "source": [
    "import itertools\n",
    "\n",
    "n_neighbors_options = [3, 5, 7]\n",
    "weights_options = ['uniform', 'distance']\n",
    "\n",
    "hyperparameter_combinations = list(itertools.product(n_neighbors_options, weights_options))\n",
    "\n",
    "best_hyperparameters = None\n",
    "best_performance = float('-inf')\n",
    "\n",
    "def evaluate_model(k, weights):\n",
    "    knn = KNN(k=k, weights=weights)\n",
    "    knn.fit(X_train, y_train)\n",
    "    y_pred = knn.predict(X_test)\n",
    "    accuracy = metrics.accuracy_score(y_test, y_pred)\n",
    "    return accuracy\n",
    "\n",
    "for hyperparameters in hyperparameter_combinations:\n",
    "    n_neighbors, weights = hyperparameters\n",
    "    performance = evaluate_model(n_neighbors, weights)\n",
    "    \n",
    "    if performance > best_performance:\n",
    "        best_hyperparameters = hyperparameters\n",
    "        best_performance = performance\n",
    "\n",
    "print(\"Best Hyperparameters:\", best_hyperparameters)\n",
    "print(\"Best Performance:\", best_performance)"
   ]
  },
  {
   "cell_type": "markdown",
   "metadata": {},
   "source": [
    "<a id='integrate'></a>\n",
    "<hr/>"
   ]
  },
  {
   "cell_type": "markdown",
   "metadata": {},
   "source": [
    "### 4. Integrate your custom code\n",
    "\n",
    "1. Create a dataframe of iris dataset\n",
    "2. Use your custom train test split function to split into train and test\n",
    "3. Use your custom GridSearch on your customKNN class to identify the best k and best weight for iris dataset"
   ]
  },
  {
   "cell_type": "code",
   "execution_count": 41,
   "metadata": {},
   "outputs": [],
   "source": [
    "import numpy as np\n",
    "from sklearn.datasets import load_iris\n",
    "from sklearn.metrics import accuracy_score\n",
    "import itertools\n",
    "\n",
    "iris = load_iris()\n",
    "X, y = iris.data, iris.target\n",
    "\n",
    "X_train, X_test, y_train, y_test = new_train_test_split(X, y, test_size=0.2, random_state=42)\n"
   ]
  },
  {
   "cell_type": "code",
   "execution_count": 42,
   "metadata": {},
   "outputs": [
    {
     "name": "stdout",
     "output_type": "stream",
     "text": [
      "Best Hyperparameters: (3, 'uniform')\n",
      "Best Performance: 1.0\n"
     ]
    }
   ],
   "source": [
    "n_neighbors_options = [3, 5, 7]\n",
    "weights_options = ['uniform', 'distance']\n",
    "\n",
    "hyperparameter_combinations = list(itertools.product(n_neighbors_options, weights_options))\n",
    "\n",
    "best_hyperparameters = None\n",
    "best_performance = float('-inf')\n",
    "\n",
    "for hyperparameters in hyperparameter_combinations:\n",
    "    k, weights = hyperparameters\n",
    "    knn = KNN(k=k, weights=weights)\n",
    "    knn.fit(X_train, y_train)\n",
    "    y_pred = knn.predict(X_test)\n",
    "    accuracy = accuracy_score(y_test, y_pred)\n",
    "    \n",
    "    if accuracy > best_performance:\n",
    "        best_hyperparameters = hyperparameters\n",
    "        best_performance = accuracy\n",
    "\n",
    "print(\"Best Hyperparameters:\", best_hyperparameters)\n",
    "print(\"Best Performance:\", best_performance)"
   ]
  },
  {
   "cell_type": "code",
   "execution_count": 43,
   "metadata": {},
   "outputs": [
    {
     "name": "stdout",
     "output_type": "stream",
     "text": [
      "Accuracy : 1.0\n"
     ]
    }
   ],
   "source": [
    "best_n_neighbors, best_weights = best_hyperparameters\n",
    "knn = KNN(k=best_n_neighbors, weights=best_weights)\n",
    "knn.fit(X_train, y_train)\n",
    "y_pred = knn.predict(X_test)\n",
    "\n",
    "accuracy = accuracy_score(y_test, y_pred)\n",
    "print(\"Accuracy :\", accuracy)"
   ]
  }
 ],
 "metadata": {
  "kernelspec": {
   "display_name": "base",
   "language": "python",
   "name": "python3"
  },
  "language_info": {
   "codemirror_mode": {
    "name": "ipython",
    "version": 3
   },
   "file_extension": ".py",
   "mimetype": "text/x-python",
   "name": "python",
   "nbconvert_exporter": "python",
   "pygments_lexer": "ipython3",
   "version": "3.11.3"
  },
  "orig_nbformat": 4
 },
 "nbformat": 4,
 "nbformat_minor": 2
}
